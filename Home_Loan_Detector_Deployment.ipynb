{
 "cells": [
  {
   "cell_type": "markdown",
   "id": "a1342de4",
   "metadata": {},
   "source": [
    "# Model Deployment"
   ]
  },
  {
   "cell_type": "markdown",
   "id": "dd200bc3",
   "metadata": {},
   "source": [
    "**Enhancing Loan Approval with Machine Learning: A Solution for Financial Inclusion**"
   ]
  },
  {
   "cell_type": "markdown",
   "id": "b62251f0",
   "metadata": {},
   "source": [
    "* The project aims to address the problem of individuals struggling to obtain loans due to inadequate credit histories, which makes them vulnerable to unreliable lenders. Home Credit, a loan provider, seeks to enhance their loan approval process by leveraging statistical and machine learning techniques to predict applicants' ability to repay loans accurately.\n",
    "\n",
    "* The project encompasses tasks such as feature engineering, model development, and evaluation. The CatBoost algorithm, with its powerful gradient boosting capabilities, is employed to build a predictive model. Model performance is evaluated using various metrics, including classification report and confusion matrix. Visualizations, such as plots of the classification report and confusion matrix, aid in better understanding the results.\n",
    "\n",
    "* The project not only offers an opportunity for participants to showcase their analytical and modeling skills but also contributes to a real-world problem, helping Home Credit make informed decisions in loan approvals and enhance financial inclusivity.\n",
    "\n",
    "**We aim to create a fairer and more accurate loan assessment process, ultimately improving financial access for individuals with limited or no credit histories.**"
   ]
  },
  {
   "cell_type": "code",
   "execution_count": null,
   "id": "ce2e9e55",
   "metadata": {},
   "outputs": [],
   "source": [
    "# pip install catboost"
   ]
  },
  {
   "cell_type": "code",
   "execution_count": 4,
   "id": "e71fd2a8",
   "metadata": {},
   "outputs": [],
   "source": [
    "# Import Libraries\n",
    "import numpy as np\n",
    "import pandas as pd\n",
    "import seaborn as sns\n",
    "import random\n",
    "from sklearn.model_selection import train_test_split\n",
    "from sklearn.metrics import mean_squared_error,confusion_matrix,accuracy_score,recall_score,precision_score,classification_report,roc_auc_score\n",
    "import shap\n",
    "import catboost\n",
    "import numpy as np\n",
    "import pandas as pd\n",
    "import matplotlib.pyplot as plt\n",
    "import seaborn as sns"
   ]
  },
  {
   "cell_type": "code",
   "execution_count": 5,
   "id": "944d6e8f",
   "metadata": {},
   "outputs": [],
   "source": [
    "# To visualize data\n",
    "%matplotlib inline\n",
    "plt.style.use('ggplot')\n",
    "\n",
    "pd.set_option('display.max_columns', None)\n",
    "pd.set_option('display.max_rows', None)"
   ]
  },
  {
   "cell_type": "code",
   "execution_count": 6,
   "id": "317fe46c",
   "metadata": {},
   "outputs": [],
   "source": [
    "# Import tools\n",
    "from sklearn.compose import ColumnTransformer\n",
    "from sklearn.impute import SimpleImputer\n",
    "from sklearn.pipeline import Pipeline\n",
    "from sklearn.preprocessing import StandardScaler, MinMaxScaler, OneHotEncoder, OrdinalEncoder\n",
    "from sklearn.model_selection import train_test_split"
   ]
  },
  {
   "cell_type": "code",
   "execution_count": 27,
   "id": "6f957b94",
   "metadata": {},
   "outputs": [],
   "source": [
    "cat_col_final = ['NAME_CONTRACT_TYPE', 'CODE_GENDER', 'FLAG_OWN_CAR', 'NAME_INCOME_TYPE', 'NAME_EDUCATION_TYPE']\n",
    "num_col_final = ['TARGET','EXT_SOURCE_2', 'EXT_SOURCE_3', 'DAYS_REGISTRATION', 'DAYS_LAST_PHONE_CHANGE']"
   ]
  },
  {
   "cell_type": "code",
   "execution_count": 28,
   "id": "6e89d7f5",
   "metadata": {},
   "outputs": [
    {
     "data": {
      "text/html": [
       "<div>\n",
       "<style scoped>\n",
       "    .dataframe tbody tr th:only-of-type {\n",
       "        vertical-align: middle;\n",
       "    }\n",
       "\n",
       "    .dataframe tbody tr th {\n",
       "        vertical-align: top;\n",
       "    }\n",
       "\n",
       "    .dataframe thead th {\n",
       "        text-align: right;\n",
       "    }\n",
       "</style>\n",
       "<table border=\"1\" class=\"dataframe\">\n",
       "  <thead>\n",
       "    <tr style=\"text-align: right;\">\n",
       "      <th></th>\n",
       "      <th>NAME_CONTRACT_TYPE</th>\n",
       "      <th>CODE_GENDER</th>\n",
       "      <th>FLAG_OWN_CAR</th>\n",
       "      <th>NAME_INCOME_TYPE</th>\n",
       "      <th>NAME_EDUCATION_TYPE</th>\n",
       "      <th>TARGET</th>\n",
       "      <th>EXT_SOURCE_2</th>\n",
       "      <th>EXT_SOURCE_3</th>\n",
       "      <th>DAYS_REGISTRATION</th>\n",
       "      <th>DAYS_LAST_PHONE_CHANGE</th>\n",
       "    </tr>\n",
       "  </thead>\n",
       "  <tbody>\n",
       "    <tr>\n",
       "      <th>0</th>\n",
       "      <td>Cash loans</td>\n",
       "      <td>F</td>\n",
       "      <td>N</td>\n",
       "      <td>Commercial associate</td>\n",
       "      <td>Secondary / secondary special</td>\n",
       "      <td>0</td>\n",
       "      <td>0.555561</td>\n",
       "      <td>0.514747</td>\n",
       "      <td>-2671.0</td>\n",
       "      <td>-1482.0</td>\n",
       "    </tr>\n",
       "    <tr>\n",
       "      <th>1</th>\n",
       "      <td>Revolving loans</td>\n",
       "      <td>M</td>\n",
       "      <td>Y</td>\n",
       "      <td>Working</td>\n",
       "      <td>Secondary / secondary special</td>\n",
       "      <td>0</td>\n",
       "      <td>0.577857</td>\n",
       "      <td>0.380800</td>\n",
       "      <td>-2382.0</td>\n",
       "      <td>-1109.0</td>\n",
       "    </tr>\n",
       "    <tr>\n",
       "      <th>2</th>\n",
       "      <td>Cash loans</td>\n",
       "      <td>F</td>\n",
       "      <td>N</td>\n",
       "      <td>State servant</td>\n",
       "      <td>Secondary / secondary special</td>\n",
       "      <td>0</td>\n",
       "      <td>0.749873</td>\n",
       "      <td>0.542445</td>\n",
       "      <td>-8297.0</td>\n",
       "      <td>-2255.0</td>\n",
       "    </tr>\n",
       "    <tr>\n",
       "      <th>3</th>\n",
       "      <td>Cash loans</td>\n",
       "      <td>F</td>\n",
       "      <td>N</td>\n",
       "      <td>Pensioner</td>\n",
       "      <td>Secondary / secondary special</td>\n",
       "      <td>0</td>\n",
       "      <td>0.680649</td>\n",
       "      <td>0.424130</td>\n",
       "      <td>-255.0</td>\n",
       "      <td>-192.0</td>\n",
       "    </tr>\n",
       "    <tr>\n",
       "      <th>4</th>\n",
       "      <td>Cash loans</td>\n",
       "      <td>F</td>\n",
       "      <td>N</td>\n",
       "      <td>Working</td>\n",
       "      <td>Higher education</td>\n",
       "      <td>0</td>\n",
       "      <td>0.526164</td>\n",
       "      <td>0.597192</td>\n",
       "      <td>-8665.0</td>\n",
       "      <td>-1209.0</td>\n",
       "    </tr>\n",
       "  </tbody>\n",
       "</table>\n",
       "</div>"
      ],
      "text/plain": [
       "  NAME_CONTRACT_TYPE CODE_GENDER FLAG_OWN_CAR      NAME_INCOME_TYPE  \\\n",
       "0         Cash loans           F            N  Commercial associate   \n",
       "1    Revolving loans           M            Y               Working   \n",
       "2         Cash loans           F            N         State servant   \n",
       "3         Cash loans           F            N             Pensioner   \n",
       "4         Cash loans           F            N               Working   \n",
       "\n",
       "             NAME_EDUCATION_TYPE  TARGET  EXT_SOURCE_2  EXT_SOURCE_3  \\\n",
       "0  Secondary / secondary special       0      0.555561      0.514747   \n",
       "1  Secondary / secondary special       0      0.577857      0.380800   \n",
       "2  Secondary / secondary special       0      0.749873      0.542445   \n",
       "3  Secondary / secondary special       0      0.680649      0.424130   \n",
       "4               Higher education       0      0.526164      0.597192   \n",
       "\n",
       "   DAYS_REGISTRATION  DAYS_LAST_PHONE_CHANGE  \n",
       "0            -2671.0                 -1482.0  \n",
       "1            -2382.0                 -1109.0  \n",
       "2            -8297.0                 -2255.0  \n",
       "3             -255.0                  -192.0  \n",
       "4            -8665.0                 -1209.0  "
      ]
     },
     "execution_count": 28,
     "metadata": {},
     "output_type": "execute_result"
    }
   ],
   "source": [
    "#. load the training data ## Pipeline for Data Processing\n",
    "df = pd.read_csv('data_new.csv')\n",
    "df.head()"
   ]
  },
  {
   "cell_type": "code",
   "execution_count": 29,
   "id": "a27e2eca",
   "metadata": {},
   "outputs": [],
   "source": [
    "y = df['TARGET']\n",
    "X = df[num_col_final + cat_col_final].drop('TARGET', axis = 1)"
   ]
  },
  {
   "cell_type": "code",
   "execution_count": 30,
   "id": "74d12ba7",
   "metadata": {},
   "outputs": [],
   "source": [
    "X_train, X_test, y_train, y_test = train_test_split(X, y,\n",
    "                                                    test_size = 0.2,\n",
    "                                                    stratify = y,\n",
    "                                                    random_state = 42\n",
    "                                                   )"
   ]
  },
  {
   "cell_type": "code",
   "execution_count": 31,
   "id": "b7ba6f10",
   "metadata": {},
   "outputs": [
    {
     "data": {
      "application/vnd.jupyter.widget-view+json": {
       "model_id": "4ffdf106c99d4ed7b9f7a08997fef879",
       "version_major": 2,
       "version_minor": 0
      },
      "text/plain": [
       "MetricVisualizer(layout=Layout(align_self='stretch', height='500px'))"
      ]
     },
     "metadata": {},
     "output_type": "display_data"
    },
    {
     "name": "stdout",
     "output_type": "stream",
     "text": [
      "0:\ttest: 0.6487102\tbest: 0.6487102 (0)\ttotal: 51.1ms\tremaining: 51s\n",
      "200:\ttest: 0.7483039\tbest: 0.7504947 (189)\ttotal: 11.8s\tremaining: 46.8s\n",
      "400:\ttest: 0.7526855\tbest: 0.7549470 (332)\ttotal: 24.2s\tremaining: 36.1s\n",
      "600:\ttest: 0.7487986\tbest: 0.7549470 (332)\ttotal: 36.6s\tremaining: 24.3s\n",
      "800:\ttest: 0.7470318\tbest: 0.7549470 (332)\ttotal: 48.9s\tremaining: 12.1s\n",
      "Stopped by overfitting detector  (500 iterations wait)\n",
      "\n",
      "bestTest = 0.7549469965\n",
      "bestIteration = 332\n",
      "\n",
      "Shrink model to first 333 iterations.\n",
      "Classification Report:\n",
      "\n",
      "              precision    recall  f1-score   support\n",
      "\n",
      "           0       0.92      0.99      0.96       566\n",
      "           1       0.40      0.08      0.13        50\n",
      "\n",
      "    accuracy                           0.92       616\n",
      "   macro avg       0.66      0.53      0.54       616\n",
      "weighted avg       0.88      0.92      0.89       616\n",
      "\n",
      "\n",
      "Test-set Confusion Matrix:\n",
      "\n",
      "          Predicted 0  Predicted 1\n",
      "Actual 0          560            6\n",
      "Actual 1           46            4\n"
     ]
    },
    {
     "data": {
      "text/plain": [
       "<Figure size 1000x800 with 0 Axes>"
      ]
     },
     "metadata": {},
     "output_type": "display_data"
    },
    {
     "data": {
      "image/png": "[encoded data removed]",
      "text/plain": [
       "<Figure size 600x400 with 2 Axes>"
      ]
     },
     "metadata": {},
     "output_type": "display_data"
    }
   ],
   "source": [
    "# Set figure size for better visualization\n",
    "plt.figure(figsize=(10, 8))\n",
    "\n",
    "# Define model parameters\n",
    "params = {\n",
    "    'learning_rate': 0.1,\n",
    "    'cat_features': cat_col_final,\n",
    "    'depth': 6,\n",
    "    'eval_metric': 'AUC',\n",
    "    'verbose': 200,\n",
    "    'od_type': \"Iter\",  # overfit detector\n",
    "    'od_wait': 500  # most recent best iteration to wait before stopping\n",
    "    # 'random_seed': 2,\n",
    "    # 'n_estimators': 200\n",
    "}\n",
    "\n",
    "# Create and train the CatBoost classifier\n",
    "cat_model = catboost.CatBoostClassifier(**params)\n",
    "cat_model.fit(X_train, y_train,\n",
    "              eval_set=(X_test, y_test),\n",
    "              use_best_model=True,  # True if we don't want to save trees created after iteration with the best validation score\n",
    "              plot=True\n",
    "              )\n",
    "\n",
    "# Make predictions on the test set\n",
    "pred = cat_model.predict(X_test)\n",
    "print(\"Classification Report:\\n\")\n",
    "print(classification_report(y_test, pred))\n",
    "\n",
    "# Print test-set confusion matrix\n",
    "print(\"\\nTest-set Confusion Matrix:\\n\")\n",
    "confusion_matrix_df = pd.DataFrame(confusion_matrix(y_test, pred))\n",
    "confusion_matrix_df.columns = ['Predicted 0', 'Predicted 1']\n",
    "confusion_matrix_df.index = ['Actual 0', 'Actual 1']\n",
    "print(confusion_matrix_df)\n",
    "\n",
    "plt.figure(figsize=(6, 4))\n",
    "sns.heatmap(confusion_matrix_df, annot=True, fmt='d', cmap='Blues')\n",
    "plt.xlabel('Predicted')\n",
    "plt.ylabel('Actual')\n",
    "plt.title('Confusion Matrix')\n",
    "plt.show()"
   ]
  },
  {
   "cell_type": "code",
   "execution_count": 32,
   "id": "a5cd57f9",
   "metadata": {},
   "outputs": [],
   "source": [
    "cat_model.save_model('default_detector_catboost')"
   ]
  },
  {
   "cell_type": "code",
   "execution_count": 33,
   "id": "1d693d65",
   "metadata": {},
   "outputs": [],
   "source": [
    "# Create a SHAP explainer for cat_model\n",
    "explainer = shap.Explainer(cat_model)\n",
    "shap_values = explainer(X_test)\n",
    "\n",
    "shapvaluedf = pd.DataFrame(shap_values.values, columns= X.columns)\n",
    "shapdatadf = pd.DataFrame(shap_values.data, columns= X.columns)\n",
    "\n",
    "shapdatadf.to_csv(r'shapdatadf.csv')\n",
    "shapvaluedf.to_csv(r'shapvaluedf.csv')"
   ]
  },
  {
   "cell_type": "code",
   "execution_count": null,
   "id": "d7510c07",
   "metadata": {},
   "outputs": [],
   "source": []
  }
 ],
 "metadata": {
  "kernelspec": {
   "display_name": "Python 3 (ipykernel)",
   "language": "python",
   "name": "python3"
  },
  "language_info": {
   "codemirror_mode": {
    "name": "ipython",
    "version": 3
   },
   "file_extension": ".py",
   "mimetype": "text/x-python",
   "name": "python",
   "nbconvert_exporter": "python",
   "pygments_lexer": "ipython3",
   "version": "3.9.13"
  },
  "toc": {
   "base_numbering": 1,
   "nav_menu": {},
   "number_sections": true,
   "sideBar": true,
   "skip_h1_title": false,
   "title_cell": "Table of Contents",
   "title_sidebar": "Contents",
   "toc_cell": false,
   "toc_position": {},
   "toc_section_display": true,
   "toc_window_display": false
  },
  "varInspector": {
   "cols": {
    "lenName": 16,
    "lenType": 16,
    "lenVar": 40
   },
   "kernels_config": {
    "python": {
     "delete_cmd_postfix": "",
     "delete_cmd_prefix": "del ",
     "library": "var_list.py",
     "varRefreshCmd": "print(var_dic_list())"
    },
    "r": {
     "delete_cmd_postfix": ") ",
     "delete_cmd_prefix": "rm(",
     "library": "var_list.r",
     "varRefreshCmd": "cat(var_dic_list()) "
    }
   },
   "types_to_exclude": [
    "module",
    "function",
    "builtin_function_or_method",
    "instance",
    "_Feature"
   ],
   "window_display": false
  }
 },
 "nbformat": 4,
 "nbformat_minor": 5
}
